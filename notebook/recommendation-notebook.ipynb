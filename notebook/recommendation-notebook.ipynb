{
 "cells": [
  {
   "cell_type": "markdown",
   "metadata": {},
   "source": [
    "based on how long before the travel date "
   ]
  },
  {
   "cell_type": "code",
   "execution_count": null,
   "metadata": {},
   "outputs": [],
   "source": []
  },
  {
   "cell_type": "code",
   "execution_count": null,
   "metadata": {},
   "outputs": [],
   "source": []
  },
  {
   "cell_type": "code",
   "execution_count": null,
   "metadata": {},
   "outputs": [],
   "source": []
  },
  {
   "cell_type": "code",
   "execution_count": null,
   "metadata": {},
   "outputs": [],
   "source": []
  },
  {
   "cell_type": "markdown",
   "metadata": {},
   "source": [
    "# Build a product recommendation engine\n",
    "\n",
    "This notebook contains steps and code to import user transaction *history from PostgresSQL, create hotel and car recommendation engines, and deploy these models to Watson Machine Learning. This notebook runs on Python 3.6 with Apache Spark 2.1.\n",
    "\n",
    "*<i>The data in this code pattern is fake and does not involve any real purchase events</i>\n",
    "\n",
    "## Learning Goals\n",
    "\n",
    "The learning goals of this notebook are:\n",
    "\n",
    "* Process the PostgresSQL data assets from the Object Storage service into a CSV file\n",
    "* Load the CSV file into the Object Storage service linked to your Watson Studio\n",
    "* Use the *k*-means algorithm, which is useful for cluster analysis in data mining, to segment customers leaving within the same time from booking to departure category into clusters for the purpose of finding relevant search results\n",
    "* Deploy the model to the IBM Watson Machine Learning service in IBM Cloud to create your recommendation application"
   ]
  },
  {
   "cell_type": "markdown",
   "metadata": {},
   "source": [
    "In the demo video, you can see the demo travel site [Bee Travels](http://bee-travels.v2.ibmdeveloper.net/) has hotel and car rental options. Users can filter hotels based on city, superchain, types, and time period of the trip. While car rentals in addition to the those parameters can also filter on body style. Data is aggregated in this notebook by customer ID and group, the amount of days before departure that the customer books the travel service. The group category as a customer identifier ensures the results are appropriate for their current needs.\n",
    "<br><br>^^^^^**time frame instead of needs**??"
   ]
  },
  {
   "cell_type": "markdown",
   "metadata": {},
   "source": [
    "#### <u>The video example of Bee Travels may provide you insight into the data you will encounter through this code pattern.</u>"
   ]
  },
  {
   "cell_type": "code",
   "execution_count": 1,
   "metadata": {},
   "outputs": [
    {
     "data": {
      "image/jpeg": "[encoded data removed]",
      "text/html": [
       "\n",
       "        <iframe\n",
       "            width=\"400\"\n",
       "            height=\"300\"\n",
       "            src=\"https://www.youtube.com/embed/mcWI_KIn0sk\"\n",
       "            frameborder=\"0\"\n",
       "            allowfullscreen\n",
       "        ></iframe>\n",
       "        "
      ],
      "text/plain": [
       "<IPython.lib.display.YouTubeVideo at 0x7fb482794550>"
      ]
     },
     "execution_count": 1,
     "metadata": {},
     "output_type": "execute_result"
    }
   ],
   "source": [
    "from IPython.lib.display import YouTubeVideo\n",
    "YouTubeVideo('mcWI_KIn0sk')"
   ]
  },
  {
   "cell_type": "markdown",
   "metadata": {},
   "source": [
    "## Table of contents\n",
    "\n",
    "1. [Data Parameters](#dataparameters)<br>\n",
    "2. [Setup](#setup)<br>\n",
    "3. [Load and explore data](#load)<br>\n",
    "4. [Create a KMeans model](#kmeans)<br>\n",
    "   3.1. [Prepare data](#prepare_data)<br>\n",
    "   3.2. [Create clusters and define the model](#build_model)<br>\n",
    "5. [Persist the model](#persist)<br>\n",
    "6. [Deploy the model to the cloud](#deploy)<br>\n",
    "   5.1. [Create deployment for the model](#create_deploy)<br>\n",
    "   5.2. [Test model deployment](#test_deploy)<br>\n",
    "7. [Create product recommendations](#create_recomm)<br>\n",
    "   6.1. [Test product recommendations model](#test_recomm)<br>\n",
    "8. [Summary and next steps](#summary)<br>"
   ]
  },
  {
   "cell_type": "markdown",
   "metadata": {},
   "source": [
    "<a id=\"dataparameters\"></a>\n",
    "## 1. Data Parameters\n",
    "\n",
    "#### Car Data Variables\n",
    "\n",
    "The other model trains on a data set with user transactions of car rentals with the following variables:\n",
    "* Id: (type string) the customer ID of travelers with new and/or historical purchases\n",
    "     <br><pre> Ex: b02b9dc9-673b-468f-ba2f-296d88e44429</pre>\n",
    "* group: (type integer) the number of days before departure that the traveler books the car binned into categories 1-5 \n",
    "\n",
    "where:\n",
    "\n",
    "\n",
    "    - Group 1: represents < 3 days in advance    \n",
    "    - Group 2: represents 3-6 days in advance\n",
    "    - Group 3: represents 7-14 days in advance\n",
    "    - Group 4: represents 15-29 days in advance\n",
    "    - Group 5: represents 30 or greater days in advance\n",
    "    \n",
    "- rent-pad, capsule, rentio, chakra, carlux: (type integer) car rental companies, containing 1 or 0 where:\n",
    "\n",
    "      - 1 represents the rental company was booked during a transaction, for each transaction (row of data) \n",
    "          there is only one rental company booking\n",
    "      - 0 represents the rental companies that were not booked during a transaction\n",
    "    \n",
    "* sedan, suv, hatchback, muscle, crossover, convertible, sports: (type integer) car body type, containing 1 or 0 \n",
    "\n",
    "where:\n",
    "\n",
    "     - 1 represents the body type purchased, for each transaction (row of data) there is only one body style\n",
    "         given 1\n",
    "     - 0 represents the body styles that were not booked during a transaction\n",
    "    \n",
    "* basic, luxury, comfort: (type integer) car style, containing 1 or 0 where:\n",
    "\n",
    "      - 1 represents the style purchased, for each transaction (row of data) there is only one style give 1\n",
    "      - 0 represents the styles that were not booked during a transaction"
   ]
  },
  {
   "cell_type": "markdown",
   "metadata": {},
   "source": [
    "#### Hotel Data Variables\n",
    "\n",
    "The other model trains on a data set with user transactions of car rentals with the following variables:\n",
    "* Id: (type string) the customer ID of travelers with new and/or historical purchases\n",
    "     <br><pre> Ex: b02b9dc9-673b-468f-ba2f-296d88e44429</pre>\n",
    "* group: (type integer) the number of days before departure that the traveler books the hotel binned into categories 1-5 where:\n",
    " \n",
    "\n",
    "where:\n",
    "\n",
    "\n",
    "    - Group 1: represents < 3 days in advance    \n",
    "    - Group 2: represents 3-6 days in advance\n",
    "    - Group 3: represents 7-14 days in advance\n",
    "    - Group 4: represents 15-29 days in advance\n",
    "    - Group 5: represents 30 or greater days in advance\n",
    "    \n",
    "- nimbus-elites, elegant-enigma-alliance, urban-lifestyle: (type integer) hotel chain companies containing 1 or 0 where:\n",
    "\n",
    "      - 0 represents the hotel chains that were not booked during a transaction\n",
    "      - 1 represents the hotel chain was booked during a transaction, for each transaction (row of data) there is only one chain booked\n",
    "    \n",
    "* budget, luxury, comfort: (type integer) hotels are labeled by these user priorities, containing 1 or 0 where:\n",
    "\n",
    "      - 0 represents the priorities that were not booked during a transaction\n",
    "      - 1 represents the priority booked during a transaction, for each transaction (row of data) there is only \n",
    "        one priority selected"
   ]
  },
  {
   "cell_type": "markdown",
   "metadata": {},
   "source": [
    "<a id=\"setup\"></a>\n",
    "## 2. Setup\n",
    "\n",
    "\n",
    "Before you use the sample code in this notebook, you must perform the following setup tasks:\n",
    "\n",
    "* Understand the data characteristics for each of the two recommendation systems present in this code pattern\n",
    "* Create a Watson Machine Learning service instance (a free plan is offered) and associate it with your project\n"
   ]
  },
  {
   "cell_type": "markdown",
   "metadata": {},
   "source": [
    "We'll be using a few libraries for this exercise:\n",
    "\n",
    "1. [Watson Machine Learning Client](http://wml-api-pyclient.mybluemix.net/): Client library to work with the Watson Machine Learning service on IBM Cloud. Library available on [pypi](https://pypi.org/project/watson-machine-learning-client/). Service available on [IBM Cloud](https://cloud.ibm.com/catalog/services/machine-learning).\n",
    "1. [Pixiedust](https://github.com/pixiedust/pixiedust): Python Helper library for Jupyter Notebooks. Available on [pypi](https://pypi.org/project/pixiedust/).\n",
    "1. [ibmos2spark](https://github.com/ibm-watson-data-lab/ibmos2spark): Facilitates Data I/O between Spark and IBM Object Storage services"
   ]
  },
  {
   "cell_type": "code",
   "execution_count": null,
   "metadata": {},
   "outputs": [],
   "source": [
    "!pip install --upgrade ibmos2spark\n",
    "!pip install --upgrade pixiedust\n",
    "!pip install --upgrade watson-machine-learning-client"
   ]
  },
  {
   "cell_type": "code",
   "execution_count": null,
   "metadata": {},
   "outputs": [],
   "source": [
    "import numpy as np\n",
    "import pandas as pd\n",
    "import matplotlib.pyplot as plt"
   ]
  },
  {
   "cell_type": "code",
   "execution_count": null,
   "metadata": {},
   "outputs": [],
   "source": [
    "import pixiedust"
   ]
  },
  {
   "cell_type": "code",
   "execution_count": null,
   "metadata": {},
   "outputs": [],
   "source": [
    "pixiedust.optOut() #opt out of Pixie Dust collecting your data"
   ]
  },
  {
   "cell_type": "markdown",
   "metadata": {},
   "source": [
    "<a id=\"load\"></a>\n",
    "## 3. Load and explore data\n",
    "\n",
    "In this section you will load the CSV data file that contains the car rental transaction history using PixieDust's [`sampleData`](https://pixiedust.github.io/pixiedust/loaddata.html) method:"
   ]
  },
  {
   "cell_type": "code",
   "execution_count": null,
   "metadata": {},
   "outputs": [],
   "source": [
    "#loads the data as a CSV from Github as a raw file\n",
    "sparkDataFrame = pixiedust.sampleData('https://raw.githubusercontent.com/mhrosen/recommendation-code-pattern/master/notebook/data%20assets/cars_csv_uid.csv')\n",
    "\n"
   ]
  },
  {
   "cell_type": "markdown",
   "metadata": {},
   "source": [
    "To better examine and visualize the data, run the following cell to view it in a table format. Note that Pixiedust's `display` method can also render data using various chart types, such as pie charts, line graphs, and scatter plots."
   ]
  },
  {
   "cell_type": "code",
   "execution_count": null,
   "metadata": {},
   "outputs": [],
   "source": [
    "display(sparkDataFrame)"
   ]
  },
  {
   "cell_type": "markdown",
   "metadata": {},
   "source": [
    "<a id=\"kmeans\"></a>\n",
    "## 4. Create a *k*-means model with Spark\n",
    "\n",
    "In this section of the notebook you use the *k*-means implementation to associate every customer to a cluster based on their transaction data based on the amount of days before departure that the customer books their car rentals.\n",
    "\n",
    "First, import the Apache Spark Machine Learning packages ([MLlib](http://spark.apache.org/docs/2.2.0/api/python/pyspark.ml.html)) that you need in the subsequent steps:\n"
   ]
  },
  {
   "cell_type": "code",
   "execution_count": null,
   "metadata": {},
   "outputs": [],
   "source": [
    "from pyspark.ml import Pipeline\n",
    "from pyspark.ml.clustering import KMeans\n",
    "from pyspark.ml.clustering import KMeansModel\n",
    "from pyspark.ml.feature import VectorAssembler\n",
    "from pyspark.ml.linalg import Vectors"
   ]
  },
  {
   "cell_type": "markdown",
   "metadata": {},
   "source": [
    "<a id=\"prepare_data\"></a>\n",
    "### 4.1 Prepare data\n",
    "\n",
    "In this data set we are already given the columns you need. If you try to edit this model to work with a different data set, make sure you filter the data down to only the columns you need, removing columns that you do not wish to aggregate and train the model with. "
   ]
  },
  {
   "cell_type": "code",
   "execution_count": null,
   "metadata": {},
   "outputs": [],
   "source": [
    "## Here are the car cols we wish to train the model with. \n",
    "cars_cols = [\"rent-pad\",\"capsule\",\"rentio\",\"chakra\",\"carlux\",\"sedan\",\"suv\",\"hatchback\",\"muscle\",\"crossover\",\"convertible\",\"sports\",\"basic\",\"premium\",\"luxury\"]"
   ]
  },
  {
   "cell_type": "markdown",
   "metadata": {},
   "source": [
    "Now, aggregate the individual transactions for each customer within each group category timeframe to get a single score per car rental company, body type, and style per customer. If the data is aggregated correctly, each customer ID should map to any given group no more than once. "
   ]
  },
  {
   "cell_type": "code",
   "execution_count": null,
   "metadata": {},
   "outputs": [],
   "source": [
    "df_city_daysBeforeDeparture = sparkDataFrame.groupby(['id','group']).sum()\n",
    "df_city_daysBeforeDeparture = df_city_daysBeforeDeparture.drop('sum(group)') \n",
    "#you do not want this column \"group\" to be passed as a feature because we are interested in selecting recommendations\n",
    "#for customers based on their history (and history if similar customers) within their booking-to-departure time period category\n",
    "\n",
    "\n",
    "display(df_city_daysBeforeDeparture)"
   ]
  },
  {
   "cell_type": "markdown",
   "metadata": {},
   "source": [
    "<a id=\"build_model\"></a>\n",
    "### 4.2 Create clusters and define the model \n",
    "\n",
    "Create 50 clusters with a *k*-means model based on the features of a car that a specific customer books within their respective based on their booking timeframe category.\n",
    "\n",
    "\n",
    "\n",
    "> If you wish to find how many k clusters to run for a new data set, use the elbow method to find where a bend in the curve may occur.<br><br>\n",
    "> **<u>Warning:</u> _Should you decide to try adding the Elbow Method: DO NOT RUN TOO MANY SPARK JOBS, RUN FOR A FEW ITERATIONS AT A TIME AND STORE THE COST VALUES IN A TXT OR CSV FILE_**\n"
   ]
  },
  {
   "cell_type": "markdown",
   "metadata": {},
   "source": [
    "\n",
    "|No Clustering | Clustering |\n",
    "|------|------|\n",
    "|  ![](https://raw.githubusercontent.com/IBM/product-recommendation-with-watson-ml/master/doc/source/images/kmeans-1.jpg)  | ![](https://raw.githubusercontent.com/IBM/product-recommendation-with-watson-ml/master/doc/source/images/kmeans-2.jpg) |"
   ]
  },
  {
   "cell_type": "markdown",
   "metadata": {},
   "source": [
    "\n",
    "First, create a feature vector by combining each car rental company, body type, and style (basic, premium, luxury) columns:"
   ]
  },
  {
   "cell_type": "code",
   "execution_count": null,
   "metadata": {},
   "outputs": [],
   "source": [
    "assembler = VectorAssembler(inputCols=[\"sum({})\".format(x) for x in cars_cols],outputCol=\"features\") # Assemble vectors using product fields\n",
    "df_kmeans = assembler.transform(df_city_daysBeforeDeparture)\n",
    "display(df_kmeans)"
   ]
  },
  {
   "cell_type": "code",
   "execution_count": null,
   "metadata": {},
   "outputs": [],
   "source": [
    "df_city_daysBeforeDeparture = model.transform(df_city_daysBeforeDeparture) #predictions\n",
    "\n",
    "\n",
    "display(df_city_daysBeforeDeparture)"
   ]
  },
  {
   "cell_type": "markdown",
   "metadata": {},
   "source": [
    "<a id=\"persist\"></a>\n",
    "## 5. Persist the model \n",
    "\n",
    "In this section you will learn how to store your pipeline and model in Watson Machine Learning repository by using Python client libraries."
   ]
  },
  {
   "cell_type": "markdown",
   "metadata": {},
   "source": [
    "### 5.1 Configure IBM Watson Machine Learning credentials\n",
    "\n",
    "To access your machine learning repository programmatically, you need to copy in your credentials, which you can see in your **IBM Watson Machine Learning** service details in IBM Cloud."
   ]
  },
  {
   "cell_type": "markdown",
   "metadata": {},
   "source": [
    "> **IMPORTANT**: Update `apikey` and `instance_id` below. Credentials can be found on _Service Credentials_ tab of the Watson Machine Learning service instance created on the IBM Cloud.\n",
    "> To access _Service Credentials_ \n",
    "> 1. Go to [cloud.ibm.com](cloud.ibm.com) and login\n",
    "\n",
    "> ![Credentials_Step1](https://github.com/mhrosen/recommendation-code-pattern/blob/master/notebook/images-for-bee-travels-notebook/Credentials1.jpeg)\n",
    "\n",
    "\n",
    "> 2. Click on _Services_, search the name of your Watson instance, and click on it\n",
    "\n",
    "> ![Credentials_Step2](https://github.com/mhrosen/recommendation-code-pattern/blob/master/notebook/images-for-bee-travels-notebook/Credentials2.jpeg)\n",
    "\n",
    "\n",
    "> 3. Select _Service Credentials_ on the left panel\n",
    "\n",
    "> ![Credentials_Step3](https://github.com/mhrosen/recommendation-code-pattern/blob/master/notebook/images-for-bee-travels-notebook/Credentials3.jpeg)"
   ]
  },
  {
   "cell_type": "code",
   "execution_count": null,
   "metadata": {},
   "outputs": [],
   "source": [
    "# @hidden_cell\n",
    "#<<<<<*****>>>>> appears 4 times and represents individual credential information\n",
    "wml_credentials = {\n",
    "  \"apikey\": \"<<<<<*****>>>>>\",\n",
    "  \"iam_apikey_description\": \"Auto-generated for <<<<<*****>>>>>\",\n",
    "  \"iam_apikey_name\": \"<<<<<*****>>>>>\",\n",
    "  \"iam_role_crn\": \"crn:v1:bluemix:public:iam::::serviceRole:Writer\",\n",
    "  \"iam_serviceid_crn\": \"crn:v1:bluemix:public:iam-identity::a/<<<<<*****>>>>>\",\n",
    "  \"instance_id\": \"<<<<<*****>>>>>\",\n",
    "  \"url\": \"https://us-south.ml.cloud.ibm.com\"\n",
    "}\n",
    "print(wml_credentials)"
   ]
  },
  {
   "cell_type": "code",
   "execution_count": null,
   "metadata": {},
   "outputs": [],
   "source": [
    "from watson_machine_learning_client import WatsonMachineLearningAPIClient\n",
    "client = WatsonMachineLearningAPIClient(wml_credentials)\n",
    "print(client.version)"
   ]
  },
  {
   "cell_type": "markdown",
   "metadata": {},
   "source": [
    "### 5.2 Save the model \n",
    "\n",
    "#### Save the model to the Watson Machine Learning repository\n",
    "\n",
    "You use the Watson Machine Learning client's [Repository class](http://wml-api-pyclient.mybluemix.net/#repository) to store and manage models in the Watson Machine Learning service. \n",
    "\n",
    "> **NOTE**: You can also use Watson Studio to manage models. In this notebook we are using the client library instead."
   ]
  },
  {
   "cell_type": "code",
   "execution_count": null,
   "metadata": {},
   "outputs": [],
   "source": [
    "train_data = df_city_daysBeforeDeparture.withColumnRenamed('id', 'label')"
   ]
  },
  {
   "cell_type": "markdown",
   "metadata": {},
   "source": [
    "> **TIP**: Update the cell below with the name you wish to give to your model."
   ]
  },
  {
   "cell_type": "code",
   "execution_count": 2,
   "metadata": {},
   "outputs": [
    {
     "ename": "NameError",
     "evalue": "name 'client' is not defined",
     "output_type": "error",
     "traceback": [
      "\u001b[0;31m---------------------------------------------------------------------------\u001b[0m",
      "\u001b[0;31mNameError\u001b[0m                                 Traceback (most recent call last)",
      "\u001b[0;32m<ipython-input-2-bb2178e2995c>\u001b[0m in \u001b[0;36m<module>\u001b[0;34m\u001b[0m\n\u001b[0;32m----> 1\u001b[0;31m \u001b[0mmodel_props\u001b[0m \u001b[0;34m=\u001b[0m \u001b[0;34m{\u001b[0m \u001b[0mclient\u001b[0m\u001b[0;34m.\u001b[0m\u001b[0mrepository\u001b[0m\u001b[0;34m.\u001b[0m\u001b[0mModelMetaNames\u001b[0m\u001b[0;34m.\u001b[0m\u001b[0mNAME\u001b[0m\u001b[0;34m:\u001b[0m \u001b[0;34m\"bee-travels-car-recommendation\"\u001b[0m\u001b[0;34m}\u001b[0m\u001b[0;34m\u001b[0m\u001b[0;34m\u001b[0m\u001b[0m\n\u001b[0m\u001b[1;32m      2\u001b[0m \u001b[0mpublished_model\u001b[0m \u001b[0;34m=\u001b[0m \u001b[0mclient\u001b[0m\u001b[0;34m.\u001b[0m\u001b[0mrepository\u001b[0m\u001b[0;34m.\u001b[0m\u001b[0mstore_model\u001b[0m\u001b[0;34m(\u001b[0m\u001b[0mmodel\u001b[0m\u001b[0;34m=\u001b[0m\u001b[0mmodel\u001b[0m\u001b[0;34m,\u001b[0m \u001b[0mpipeline\u001b[0m\u001b[0;34m=\u001b[0m\u001b[0mpipeline\u001b[0m\u001b[0;34m,\u001b[0m \u001b[0mmeta_props\u001b[0m\u001b[0;34m=\u001b[0m\u001b[0mmodel_props\u001b[0m\u001b[0;34m,\u001b[0m \u001b[0mtraining_data\u001b[0m\u001b[0;34m=\u001b[0m\u001b[0mtrain_data\u001b[0m\u001b[0;34m)\u001b[0m\u001b[0;34m\u001b[0m\u001b[0;34m\u001b[0m\u001b[0m\n",
      "\u001b[0;31mNameError\u001b[0m: name 'client' is not defined"
     ]
    }
   ],
   "source": [
    "model_props = { client.repository.ModelMetaNames.NAME: \"bee-travels-car-recommendation\"}\n",
    "published_model = client.repository.store_model(model=model, pipeline=pipeline, meta_props=model_props, training_data=train_data)"
   ]
  },
  {
   "cell_type": "markdown",
   "metadata": {},
   "source": [
    "> **NOTE**: You can delete a model from the repository by calling `client.repository.delete(<ENTER GUID>)`."
   ]
  },
  {
   "cell_type": "markdown",
   "metadata": {},
   "source": [
    "#### Display list of existing models in the Watson Machine Learning repository "
   ]
  },
  {
   "cell_type": "code",
   "execution_count": null,
   "metadata": {},
   "outputs": [],
   "source": [
    "client.repository.list_models()"
   ]
  },
  {
   "cell_type": "markdown",
   "metadata": {},
   "source": [
    "#### Display information about the saved model"
   ]
  },
  {
   "cell_type": "code",
   "execution_count": null,
   "metadata": {},
   "outputs": [],
   "source": [
    "import json\n",
    "saved_model_uid = client.repository.get_model_uid(published_model)\n",
    "model_details = client.repository.get_details(saved_model_uid)\n",
    "print(json.dumps(model_details, indent=2))"
   ]
  },
  {
   "cell_type": "markdown",
   "metadata": {},
   "source": [
    "<a id=\"deploy\"></a>\n",
    "## 6. Deploy model to the IBM cloud\n",
    "\n",
    "You use the Watson Machine Learning client's [Deployments class](http://wml-api-pyclient.mybluemix.net/#deployments) to deploy and score models.\n",
    "\n",
    "### 6.1 Create an online deployment for the model"
   ]
  },
  {
   "cell_type": "code",
   "execution_count": null,
   "metadata": {},
   "outputs": [],
   "source": [
    "created_deployment = client.deployments.create(saved_model_uid, 'car-recommendation-model')"
   ]
  },
  {
   "cell_type": "markdown",
   "metadata": {},
   "source": [
    "### 6.2 Retrieve the scoring endpoint for this model"
   ]
  },
  {
   "cell_type": "code",
   "execution_count": null,
   "metadata": {},
   "outputs": [],
   "source": [
    "scoring_endpoint = client.deployments.get_scoring_url(created_deployment)\n",
    "print(scoring_endpoint)"
   ]
  },
  {
   "cell_type": "markdown",
   "metadata": {},
   "source": [
    "<a id=\"test_deploy\"></a>\n",
    "### 6.3 Test the deployed model\n",
    "\n",
    "To verify that the model was successfully deployed to the cloud, you'll specify a customer ID, for example customer 222f62f8-9941-4148-a9f6-cf887db1dede 's group 4 profile, to predict this customer's cluster against the Watson Machine Learning deployment, and see if it matches the cluster that was previously associated this customer ID."
   ]
  },
  {
   "cell_type": "code",
   "execution_count": null,
   "metadata": {},
   "outputs": [],
   "source": [
    "customer_group4 = df_city_daysBeforeDeparture_cluster.filter(\"id='222f62f8-9941-4148-a9f6-cf887db1dede'\").filter(\"group=4\").collect()\n",
    "print(\"Previously calculated cluster = {}\".format(customer_group4[0].cluster))"
   ]
  },
  {
   "cell_type": "markdown",
   "metadata": {},
   "source": [
    "To determine the customer's cluster using Watson Machine Learning, you need to load the customer's purchase history. This function uses the local data frame to select every car rental field and the amount of time before departure that customer 222f62f8-9941-4148-a9f6-cf887db1dede, when in group 4, booked a car."
   ]
  },
  {
   "cell_type": "code",
   "execution_count": null,
   "metadata": {},
   "outputs": [],
   "source": [
    "from six import iteritems\n",
    "def get_rental_counts_for_customer(identifier group):\n",
    "    cust = df_city_daysBeforeDeparture.filter(\"id='{}'\".format(identifier)).filter(\"group={}\".format(group)).take(1)\n",
    "    fields = []\n",
    "    values = []\n",
    "    for row in customer:\n",
    "        for car_col in cars_cols:\n",
    "            field = 'sum({})'.format(car_col)\n",
    "            value = row[field]\n",
    "            fields.append(field)\n",
    "            values.append(value)\n",
    "    return (fields, values)"
   ]
  },
  {
   "cell_type": "code",
   "execution_count": null,
   "metadata": {},
   "outputs": [],
   "source": [
    "get_rental_counts_for_customer('222f62f8-9941-4148-a9f6-cf887db1dede', 4)"
   ]
  },
  {
   "cell_type": "markdown",
   "metadata": {},
   "source": [
    "This function takes the customer's purchase history and calls the scoring endpoint:"
   ]
  },
  {
   "cell_type": "code",
   "execution_count": null,
   "metadata": {},
   "outputs": [],
   "source": [
    "def get_cluster_from_watson_ml(fields, values):\n",
    "    scoring_payload = {'fields': fields, 'values': [values]}\n",
    "    predictions = client.deployments.score(scoring_endpoint, scoring_payload) \n",
    "    return predictions['values'][0][len(cars_cols)+1]"
   ]
  },
  {
   "cell_type": "markdown",
   "metadata": {},
   "source": [
    "Finally, call the functions defined above to get the rental booking history, call the scoring endpoint, and get the cluster associated to customer 222f62f8-9941-4148-a9f6-cf887db1dede when booking within the group 4 timeframe:"
   ]
  },
  {
   "cell_type": "code",
   "execution_count": null,
   "metadata": {},
   "outputs": [],
   "source": [
    "rental_counts = get_product_counts_for_customer('222f62f8-9941-4148-a9f6-cf887db1dede', 4)\n",
    "fields = rental_counts[0]\n",
    "values = rental_counts[1]\n",
    "print(fields, values)\n",
    "print(\"Cluster calculated by Watson ML = {}\".format(get_cluster_from_watson_ml(fields, values)))"
   ]
  },
  {
   "cell_type": "markdown",
   "metadata": {},
   "source": [
    "<a id=\"create_recomm\"></a>\n",
    "## 7. Create car rental recommendations\n",
    "\n",
    "Now you can create some car rental recommendations.\n",
    "\n",
    "First, run this cell to create a function that queries the database and finds the most popular items for a cluster. In this case, the **df_city_daysBeforeDeparture_cluster** dataframe is the database."
   ]
  },
  {
   "cell_type": "code",
   "execution_count": null,
   "metadata": {},
   "outputs": [],
   "source": [
    "# This function gets the most popular clusters in the cell by grouping by the cluster column\n",
    "def get_popular_rentals_in_cluster(cluster):\n",
    "    df_cluster_cities = df_city_daysBeforeDeparture_cluster.filter('cluster = {}'.format(cluster))\n",
    "    df_cluster_cities_agg = df_cluster_cities.groupby('cluster').sum()\n",
    "    row = df_cluster_cities_agg.rdd.collect()[0]\n",
    "    items = []\n",
    "    for car_col in cars_cols:\n",
    "        field = 'sum(sum({}))'.format(car_col)\n",
    "        items.append((car_col, row[field]))\n",
    "    sortedItems = sorted(items, key=lambda x: x[1], reverse=True) # Sort by score\n",
    "    popular = [x for x in sortedItems if x[1] > 0]\n",
    "    print(popular)\n",
    "    return popular"
   ]
  },
  {
   "cell_type": "markdown",
   "metadata": {},
   "source": [
    "Now, run this cell to create a function that will calculate the recommendations based on a given cluster. This function finds the most popular car rentals in the cluster, filters out rentals already purchased by the customer, and finally produces a list of recommended rentals."
   ]
  },
  {
   "cell_type": "code",
   "execution_count": null,
   "metadata": {},
   "outputs": [],
   "source": [
    "# This function takes a cluster and the history of every car rentals already purchased\n",
    "from pyspark.sql.functions import desc\n",
    "def get_recommendations_by_cluster(cluster):\n",
    "    # Existing customer rental cars\n",
    "#     print('RENTAL CAR HISTORY:')\n",
    "#     customer_products = []\n",
    "#     for i in range(0, len(cars_cols)):\n",
    "#         if purchased_quantities[i] > 0:\n",
    "#             customer_products.append((cars_cols[i], purchased_quantities[i]))\n",
    "#     df_city_daysBeforeDeparture = sc.parallelize(customer_products).toDF([\"PRODUCT\",\"COUNT\"])\n",
    "#     df_city_daysBeforeDeparture.show()\n",
    "    # Get popular products in the cluster\n",
    "    print('POPULAR PRODUCTS IN CLUSTER:')\n",
    "    cluster_products = get_popular_products_in_cluster(cluster)\n",
    "    df_cluster_products = sc.parallelize(cluster_products).toDF([\"PRODUCT\",\"COUNT\"])\n",
    "    df_cluster_products.show()\n",
    "    # Filter out products the user has already purchased\n",
    "#     print('RECOMMENDED PRODUCTS:')\n",
    "#     df_recommended_products = df_cluster_products.alias('cl').join(df_city_daysBeforeDeparture.alias('cu'), df_city_daysBeforeDeparture['PRODUCT'] == df_city_daysBeforeDeparture'PRODUCT'], 'leftouter')\n",
    "#     df_recommended_products = df_recommended_products.filter('cu.PRODUCT IS NULL').select('cl.PRODUCT','cl.COUNT').sort(desc('cl.COUNT'))\n",
    "#     df_recommended_products.show(10)"
   ]
  },
  {
   "cell_type": "code",
   "execution_count": null,
   "metadata": {},
   "outputs": [],
   "source": [
    "get_recommendations_by_cluster(rental_counts)"
   ]
  },
  {
   "cell_type": "code",
   "execution_count": null,
   "metadata": {},
   "outputs": [],
   "source": []
  },
  {
   "cell_type": "code",
   "execution_count": null,
   "metadata": {},
   "outputs": [],
   "source": []
  },
  {
   "cell_type": "code",
   "execution_count": null,
   "metadata": {},
   "outputs": [],
   "source": []
  },
  {
   "cell_type": "code",
   "execution_count": null,
   "metadata": {},
   "outputs": [],
   "source": []
  },
  {
   "cell_type": "code",
   "execution_count": null,
   "metadata": {},
   "outputs": [],
   "source": []
  },
  {
   "cell_type": "code",
   "execution_count": null,
   "metadata": {},
   "outputs": [],
   "source": []
  },
  {
   "cell_type": "code",
   "execution_count": null,
   "metadata": {},
   "outputs": [],
   "source": []
  },
  {
   "cell_type": "markdown",
   "metadata": {},
   "source": [
    "Now, run this cell to create a function that will calculate the recommendations based on a given cluster. This function finds the most popular products in the cluster, filters out products already purchased by the customer or currently in the customer's shopping cart, and finally produces a list of recommended products.\n",
    "\n"
   ]
  },
  {
   "cell_type": "code",
   "execution_count": null,
   "metadata": {},
   "outputs": [],
   "source": [
    "his function takes a cluster and the quantity of every product already purchased or in the user's cart\n",
    "from pyspark.sql.functions import desc\n",
    "def get_recommendations_by_cluster(cluster, purchased_quantities):\n",
    "    # Existing customer products\n",
    "    print('PRODUCTS ALREADY PURCHASED/IN CART:')\n",
    "    customer_products = []\n",
    "    for i in range(0, len(product_cols)):\n",
    "        if purchased_quantities[i] > 0:\n",
    "            customer_products.append((product_cols[i], purchased_quantities[i]))\n",
    "    df_customer_products = sc.parallelize(customer_products).toDF([\"PRODUCT\",\"COUNT\"])\n",
    "    df_customer_products.show()\n",
    "    # Get popular products in the cluster\n",
    "    print('POPULAR PRODUCTS IN CLUSTER:')\n",
    "    cluster_products = get_popular_products_in_cluster(cluster)\n",
    "    df_cluster_products = sc.parallelize(cluster_products).toDF([\"PRODUCT\",\"COUNT\"])\n",
    "    df_cluster_products.show()\n",
    "    # Filter out products the user has already purchased\n",
    "    print('RECOMMENDED PRODUCTS:')\n",
    "    df_recommended_products = df_cluster_products.alias('cl').join(df_customer_products.alias('cu'), df_cluster_products['PRODUCT'] == df_customer_products['PRODUCT'], 'leftouter')\n",
    "    df_recommended_products = df_recommended_products.filter('cu.PRODUCT IS NULL').select('cl.PRODUCT','cl.COUNT').sort(desc('cl.COUNT'))\n",
    "    df_recommended_products.show(10)"
   ]
  },
  {
   "cell_type": "markdown",
   "metadata": {},
   "source": [
    "Next, run this cell to create a function that produces a list of recommended items based on the products and quantities in a user's cart. This function uses Watson Machine Learning to calculate the cluster based on the shopping cart contents and then calls the get_recommendations_by_cluster function."
   ]
  },
  {
   "cell_type": "code",
   "execution_count": null,
   "metadata": {},
   "outputs": [],
   "source": [
    "# This function would be used to find recommendations based on the products and quantities in a user's cart\n",
    "def get_recommendations_for_shopping_cart(products, quantities):\n",
    "    fields = []\n",
    "    values = []\n",
    "    for product_col in product_cols:\n",
    "        field = 'sum({})'.format(product_col)\n",
    "        if product_col in products:\n",
    "            value = quantities[products.index(product_col)]\n",
    "        else:\n",
    "            value = 0\n",
    "        fields.append(field)\n",
    "        values.append(value)\n",
    "    return get_recommendations_by_cluster(get_cluster_from_watson_ml(fields, values), values)"
   ]
  },
  {
   "cell_type": "markdown",
   "metadata": {},
   "source": [
    "Run this cell to create a function that produces a list of recommended items based on the purchase history of a customer. This function uses Watson Machine Learning to calculate the cluster based on the customer's purchase history and then calls the get_recommendations_by_cluster function."
   ]
  },
  {
   "cell_type": "code",
   "execution_count": null,
   "metadata": {},
   "outputs": [],
   "source": [
    "# This function is used to find recommendations based on the purchase history of a customer\n",
    "def get_recommendations_for_customer_purchase_history(customer_id):\n",
    "    product_counts = get_product_counts_for_customer(customer_id)\n",
    "    fields = product_counts[0]\n",
    "    values = product_counts[1]\n",
    "    return get_recommendations_by_cluster(get_cluster_from_watson_ml(fields, values), values)"
   ]
  },
  {
   "cell_type": "markdown",
   "metadata": {},
   "source": [
    "Now you can take customer 12027 and produce a recommendation based on that customer's purchase history:"
   ]
  },
  {
   "cell_type": "code",
   "execution_count": null,
   "metadata": {},
   "outputs": [],
   "source": [
    "get_recommendations_for_customer_purchase_history(12027)"
   ]
  },
  {
   "cell_type": "markdown",
   "metadata": {},
   "source": [
    "\n",
    "Now, take a sample shopping cart and produce a recommendation based on the items in the cart:"
   ]
  },
  {
   "cell_type": "code",
   "execution_count": null,
   "metadata": {},
   "outputs": [],
   "source": [
    "get_recommendations_for_shopping_cart(['Diapers','Baby wash','Oatmeal'],[1,2,1])"
   ]
  },
  {
   "cell_type": "markdown",
   "metadata": {},
   "source": [
    "6.1 Test product recommendations model\n",
    "You can interactively test your product recommendations model using a simple PixieApp. PixieApps encapsulate business logic and data visualizations, making it easy for notebook users to explore data without having to write any code. Typically these applications are pre-packaged and imported into a notebook. However, for illustrative purposes we've embedded the product recommendation source code in this notebook.\n",
    "\n",
    "\n",
    "\n",
    "Run the cell below, add items to the shopping cart and click the Refresh button to review the recommendation results."
   ]
  },
  {
   "cell_type": "code",
   "execution_count": null,
   "metadata": {},
   "outputs": [],
   "source": [
    "# This function takes a cluster and the quantity of every product already purchased or in the user's cart & returns the data frame of recommendations for the PixieApp\n",
    "from pyspark.sql.functions import desc\n",
    "def get_recommendations_by_cluster_app(cluster, purchased_quantities):\n",
    "    # Existing customer products\n",
    "    customer_products = []\n",
    "    for i in range(0, len(product_cols)):\n",
    "        if purchased_quantities[i] > 0:\n",
    "            customer_products.append((product_cols[i], purchased_quantities[i]))\n",
    "    df_customer_products = sc.parallelize(customer_products).toDF([\"PRODUCT\",\"COUNT\"])\n",
    "    # Get popular products in the cluster\n",
    "    cluster_products = get_popular_products_in_cluster(cluster)\n",
    "    df_cluster_products = sc.parallelize(cluster_products).toDF([\"PRODUCT\",\"COUNT\"])\n",
    "    # Filter out products the user has already purchased\n",
    "    df_recommended_products = df_cluster_products.alias('cl').join(df_customer_products.alias('cu'), df_cluster_products['PRODUCT'] == df_customer_products['PRODUCT'], 'leftouter')\n",
    "    df_recommended_products = df_recommended_products.filter('cu.PRODUCT IS NULL').select('cl.PRODUCT','cl.COUNT').sort(desc('cl.COUNT'))\n",
    "    return df_recommended_products\n",
    "\n",
    "\n",
    "# PixieDust sample application\n",
    "\n",
    "from pixiedust.display.app import *\n",
    "\n",
    "@PixieApp\n",
    "class RecommenderPixieApp:\n",
    "    def setup(self):\n",
    "        self.product_cols = product_cols\n",
    "        \n",
    "    def computeUserRecs(self, shoppingcart):   \n",
    "        #format products and quantities from shopping cart display data\n",
    "        lst = list(zip(*[(item.split(\":\")[0],int(item.split(\":\")[1])) for item in shoppingcart.split(\",\")]))\n",
    "        products = list(lst[0])\n",
    "        quantities = list(lst[1])\n",
    "        #format for the Model function\n",
    "        lst = list(zip(*[('sum({})'.format(item),quantities[products.index(item)] if item in products else 0) for item in self.product_cols]))\n",
    "        fields = list(lst[0])\n",
    "        values = list(lst[1])\n",
    "        #call the run Model function\n",
    "        recommendations_df = get_recommendations_by_cluster_app(get_cluster_from_watson_ml(fields, values), values)\n",
    "        recs = [row[\"PRODUCT\"] for row in recommendations_df.rdd.collect()]\n",
    "        return recs[:5]\n",
    "    \n",
    "    @route(shoppingCart=\"*\")\n",
    "    def _recommendation(self, shoppingCart):\n",
    "        recommendation = self.computeUserRecs(shoppingCart)\n",
    "        self._addHTMLTemplateString(\n",
    "        \"\"\"\n",
    "        <table style=\"width:100%\"> {% for item in recommendation %} <tr> <td type=\"text\" style=\"text-align:left\">{{item}}</td> </tr> {% endfor %} </table>\n",
    "        \"\"\", recommendation = recommendation)\n",
    "\n",
    "        \n",
    "    @route()\n",
    "    def main(self):\n",
    "        return \"\"\"\n",
    "        <script>\n",
    "        function getValuesRec(){\n",
    "            return $( \"input[id^='prod']\" )\n",
    "            .filter(function( index ) {\n",
    "                return parseInt($(this).val()) > 0;})\n",
    "            .map(function(i, product) {\n",
    "                return $(product).attr(\"name\") + \":\" + $(product).val();\n",
    "            }).toArray().join(\",\");}\n",
    "            \n",
    "        function getValuesCart(){\n",
    "            return $( \"input[id^='prod']\" )\n",
    "            .filter(function( index ) {\n",
    "                return parseInt($(this).val()) > 0; })\n",
    "            .map(function(i, product) {\n",
    "                return $(product).attr(\"name\") + \":\" + $(product).val();\n",
    "            }).toArray(); }\n",
    "        \n",
    "        function populateCart(field) {\n",
    "            user_cart = getValuesCart();\n",
    "            $(\"#user_cart{{prefix}}\").html(\"\");\n",
    "            if (user_cart.length > 0) {\n",
    "                for (var i in user_cart) {\n",
    "                    var item = user_cart[i];\n",
    "                    var item_arr = item.split(\":\")\n",
    "                    $(\"#user_cart{{prefix}}\").append('<tr><td style=\"text-align:left\">'+item_arr[1]+\" \"+item_arr[0]+\"</td></tr>\"); } }\n",
    "            else { $(\"#user_cart{{prefix}}\").append('<tr><td style=\"text-align:left\">'+ \"Cart Empty\" +\"</td></tr>\"); } }\n",
    "        \n",
    "        function increase_by_one(field) {\n",
    "            nr = parseInt(document.getElementById(field).value);\n",
    "            document.getElementById(field).value = nr + 1;\n",
    "            populateCart(field); }\n",
    "        \n",
    "        function decrease_by_one(field) {\n",
    "            nr = parseInt(document.getElementById(field).value);\n",
    "            if (nr > 0) { if( (nr - 1) >= 0) { document.getElementById(field).value = nr - 1; } }\n",
    "            populateCart(field); } \n",
    "        </script>\n",
    "        \n",
    "        <table> Products: {% for item in this.product_cols %}\n",
    "            {% if loop.index0 is divisibleby 4 %} <tr> {% endif %}\n",
    "                <div class=\"prod-quantity\">\n",
    "                <td class=\"col-md-3\">{{item}}:</td><td><input size=\"2\" id=\"prod{{loop.index}}{{prefix}}\" class=\"prods\" type=\"text\" \n",
    "                    style=\"text-align:center\" value=\"0\" name=\"{{item}}\" /></td>\n",
    "                <td><button onclick=\"increase_by_one('prod{{loop.index}}{{prefix}}');\">+</button></td>\n",
    "                <td><button onclick=\"decrease_by_one('prod{{loop.index}}{{prefix}}');\">-</button></td>\n",
    "                </div>\n",
    "            {% if ((not loop.first) and (loop.index0 % 4 == 3)) or (loop.last) %} </tr> {% endif %}\n",
    "        {% endfor %} </table>\n",
    "        \n",
    "        <div class=\"row\">\n",
    "            <div class=\"col-sm-6\"> Your Cart: </div>\n",
    "            <div class=\"col-sm-6\"> Your Recommendations: <button pd_options=\"shoppingCart=$val(getValuesRec)\" pd_target=\"recs{{prefix}}\"> \n",
    "                <pd_script type=\"preRun\"> if (getValuesRec()==\"\"){alert(\"Your cart is empty\");return false;} return true;\n",
    "                </pd_script>Refresh </button> \n",
    "            </div>\n",
    "        </div>\n",
    "        \n",
    "        <div class=\"row\">\n",
    "        <div class=\"col-sm-3\"> <table style=\"width:100%\" id=\"user_cart{{prefix}}\"> </table> </div> <div class=\"col-sm-3\"> </div>\n",
    "        <div class=\"col-sm-3\" id=\"recs{{prefix}}\" pd_loading_msg=\"Calling your model in Watson ML\"></div> <div class=\"col-sm-3\"> </div>\n",
    "        </div>\n",
    "        \"\"\"\n",
    "        \n",
    "    \n",
    "\n",
    "#run the app\n",
    "RecommenderPixieApp().run(runInDialog='false')"
   ]
  },
  {
   "cell_type": "markdown",
   "metadata": {},
   "source": [
    "\n",
    "<font color=green>Congratulations</font>, you've sucessfully created a recommendation engine, deployed it to the Watson Machine Learning service, and created a PixieApp!\n",
    "You can now switch to the Watson Machine Learning console to deploy the model and then test it in application, or continue within the notebook to deploy the model using the APIs."
   ]
  },
  {
   "cell_type": "code",
   "execution_count": null,
   "metadata": {},
   "outputs": [],
   "source": []
  }
 ],
 "metadata": {
  "kernelspec": {
   "display_name": "Python 3.6 with Spark",
   "language": "python3",
   "name": "python36"
  },
  "language_info": {
   "codemirror_mode": {
    "name": "ipython",
    "version": 3
   },
   "file_extension": ".py",
   "mimetype": "text/x-python",
   "name": "python",
   "nbconvert_exporter": "python",
   "pygments_lexer": "ipython3",
   "version": "3.7.6"
  }
 },
 "nbformat": 4,
 "nbformat_minor": 4
}
